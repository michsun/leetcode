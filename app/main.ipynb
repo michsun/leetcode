{
 "cells": [
  {
   "cell_type": "code",
   "execution_count": 1,
   "metadata": {},
   "outputs": [],
   "source": [
    "import json\n",
    "import pandas as pd\n",
    "import requests\n",
    "\n",
    "URL = \"https://leetcode.com/graphql/\""
   ]
  },
  {
   "cell_type": "code",
   "execution_count": 2,
   "metadata": {},
   "outputs": [
    {
     "name": "stdout",
     "output_type": "stream",
     "text": [
      "200\n",
      "{\"data\":{\"problemsetQuestionList\":{\"total\":2136,\"questions\":[{\"frontendQuestionId\":\"1\",\"title\":\"Two Sum\",\"titleSlug\":\"two-sum\",\"difficulty\":\"Easy\",\"paidOnly\":false,\"status\":null,\"topicTags\":[{\"name\":\"Array\",\"id\":\"VG9waWNUYWdOb2RlOjU=\",\"slug\":\"array\"},{\"name\":\"Hash Table\",\"id\":\"VG9waWNUYWdOb2RlOjY=\",\"slug\":\"hash-table\"}]},{\"frontendQuestionId\":\"2\",\"title\":\"Add Two Numbers\",\"titleSlug\":\"add-two-numbers\",\"difficulty\":\"Medium\",\"paidOnly\":false,\"status\":null,\"topicTags\":[{\"name\":\"Linked List\",\"id\":\"VG9waWNUYWdOb2RlOjc=\",\"slug\":\"linked-list\"},{\"name\":\"Math\",\"id\":\"VG9waWNUYWdOb2RlOjg=\",\"slug\":\"math\"},{\"name\":\"Recursion\",\"id\":\"VG9waWNUYWdOb2RlOjMx\",\"slug\":\"recursion\"}]},{\"frontendQuestionId\":\"3\",\"title\":\"Longest Substring Without Repeating Characters\",\"titleSlug\":\"longest-substring-without-repeating-characters\",\"difficulty\":\"Medium\",\"paidOnly\":false,\"status\":null,\"topicTags\":[{\"name\":\"Hash Table\",\"id\":\"VG9waWNUYWdOb2RlOjY=\",\"slug\":\"hash-table\"},{\"name\":\"String\",\"id\":\"VG9waWNUYWdOb2RlOjEw\",\"slug\":\"string\"},{\"name\":\"Sliding Window\",\"id\":\"VG9waWNUYWdOb2RlOjU1ODIx\",\"slug\":\"sliding-window\"}]},{\"frontendQuestionId\":\"4\",\"title\":\"Median of Two Sorted Arrays\",\"titleSlug\":\"median-of-two-sorted-arrays\",\"difficulty\":\"Hard\",\"paidOnly\":false,\"status\":null,\"topicTags\":[{\"name\":\"Array\",\"id\":\"VG9waWNUYWdOb2RlOjU=\",\"slug\":\"array\"},{\"name\":\"Binary Search\",\"id\":\"VG9waWNUYWdOb2RlOjEx\",\"slug\":\"binary-search\"},{\"name\":\"Divide and Conquer\",\"id\":\"VG9waWNUYWdOb2RlOjEy\",\"slug\":\"divide-and-conquer\"}]},{\"frontendQuestionId\":\"5\",\"title\":\"Longest Palindromic Substring\",\"titleSlug\":\"longest-palindromic-substring\",\"difficulty\":\"Medium\",\"paidOnly\":false,\"status\":null,\"topicTags\":[{\"name\":\"String\",\"id\":\"VG9waWNUYWdOb2RlOjEw\",\"slug\":\"string\"},{\"name\":\"Dynamic Programming\",\"id\":\"VG9waWNUYWdOb2RlOjEz\",\"slug\":\"dynamic-programming\"}]},{\"frontendQuestionId\":\"6\",\"title\":\"Zigzag Conversion\",\"titleSlug\":\"zigzag-conversion\",\"difficulty\":\"Medium\",\"paidOnly\":false,\"status\":null,\"topicTags\":[{\"name\":\"String\",\"id\":\"VG9waWNUYWdOb2RlOjEw\",\"slug\":\"string\"}]},{\"frontendQuestionId\":\"7\",\"title\":\"Reverse Integer\",\"titleSlug\":\"reverse-integer\",\"difficulty\":\"Medium\",\"paidOnly\":false,\"status\":null,\"topicTags\":[{\"name\":\"Math\",\"id\":\"VG9waWNUYWdOb2RlOjg=\",\"slug\":\"math\"}]},{\"frontendQuestionId\":\"8\",\"title\":\"String to Integer (atoi)\",\"titleSlug\":\"string-to-integer-atoi\",\"difficulty\":\"Medium\",\"paidOnly\":false,\"status\":null,\"topicTags\":[{\"name\":\"String\",\"id\":\"VG9waWNUYWdOb2RlOjEw\",\"slug\":\"string\"}]},{\"frontendQuestionId\":\"9\",\"title\":\"Palindrome Number\",\"titleSlug\":\"palindrome-number\",\"difficulty\":\"Easy\",\"paidOnly\":false,\"status\":null,\"topicTags\":[{\"name\":\"Math\",\"id\":\"VG9waWNUYWdOb2RlOjg=\",\"slug\":\"math\"}]},{\"frontendQuestionId\":\"10\",\"title\":\"Regular Expression Matching\",\"titleSlug\":\"regular-expression-matching\",\"difficulty\":\"Hard\",\"paidOnly\":false,\"status\":null,\"topicTags\":[{\"name\":\"String\",\"id\":\"VG9waWNUYWdOb2RlOjEw\",\"slug\":\"string\"},{\"name\":\"Dynamic Programming\",\"id\":\"VG9waWNUYWdOb2RlOjEz\",\"slug\":\"dynamic-programming\"},{\"name\":\"Recursion\",\"id\":\"VG9waWNUYWdOb2RlOjMx\",\"slug\":\"recursion\"}]}]}}}\n"
     ]
    }
   ],
   "source": [
    "query = \"\"\"query problemsetQuestionList($categorySlug: String, $limit: Int, $skip: Int, $filters: QuestionListFilterInput){\n",
    "    problemsetQuestionList: questionList (\n",
    "    categorySlug: $categorySlug\n",
    "    limit: $limit\n",
    "    skip: $skip\n",
    "    filters: $filters\n",
    "  ) {\n",
    "        total: totalNum\n",
    "        questions: data {\n",
    "            frontendQuestionId: questionFrontendId #as id\n",
    "            title\n",
    "            titleSlug\n",
    "            difficulty\n",
    "            paidOnly: isPaidOnly\n",
    "            status\n",
    "            topicTags {\n",
    "                name\n",
    "                id\n",
    "                slug\n",
    "            }\n",
    "        }\n",
    "    }\n",
    "}\n",
    "\"\"\"\n",
    "variables = \"\"\"\n",
    "{\n",
    "  \"categorySlug\": \"\",\n",
    "  \"skip\": 0,\n",
    "  \"limit\": 10,\n",
    "  \"filters\": { }\n",
    "}\n",
    "\"\"\"\n",
    "\n",
    "r = requests.post(URL, json={'query': query, 'variables': variables})\n",
    "print(r.status_code)\n",
    "print(r.text)"
   ]
  },
  {
   "cell_type": "code",
   "execution_count": 3,
   "metadata": {},
   "outputs": [],
   "source": [
    "json_data = json.loads(r.text)"
   ]
  },
  {
   "cell_type": "code",
   "execution_count": 4,
   "metadata": {},
   "outputs": [
    {
     "data": {
      "text/plain": [
       "2136"
      ]
     },
     "execution_count": 4,
     "metadata": {},
     "output_type": "execute_result"
    }
   ],
   "source": [
    "questions = json_data['data']['problemsetQuestionList']['questions']\n",
    "total = json_data['data']['problemsetQuestionList']['total']\n",
    "total"
   ]
  },
  {
   "cell_type": "code",
   "execution_count": 5,
   "metadata": {},
   "outputs": [
    {
     "data": {
      "text/html": [
       "<div>\n",
       "<style scoped>\n",
       "    .dataframe tbody tr th:only-of-type {\n",
       "        vertical-align: middle;\n",
       "    }\n",
       "\n",
       "    .dataframe tbody tr th {\n",
       "        vertical-align: top;\n",
       "    }\n",
       "\n",
       "    .dataframe thead th {\n",
       "        text-align: right;\n",
       "    }\n",
       "</style>\n",
       "<table border=\"1\" class=\"dataframe\">\n",
       "  <thead>\n",
       "    <tr style=\"text-align: right;\">\n",
       "      <th></th>\n",
       "      <th>frontendQuestionId</th>\n",
       "      <th>title</th>\n",
       "      <th>titleSlug</th>\n",
       "      <th>difficulty</th>\n",
       "      <th>paidOnly</th>\n",
       "      <th>status</th>\n",
       "      <th>topicTags</th>\n",
       "    </tr>\n",
       "  </thead>\n",
       "  <tbody>\n",
       "    <tr>\n",
       "      <th>0</th>\n",
       "      <td>1</td>\n",
       "      <td>Two Sum</td>\n",
       "      <td>two-sum</td>\n",
       "      <td>Easy</td>\n",
       "      <td>False</td>\n",
       "      <td>None</td>\n",
       "      <td>[{'name': 'Array', 'id': 'VG9waWNUYWdOb2RlOjU=...</td>\n",
       "    </tr>\n",
       "    <tr>\n",
       "      <th>1</th>\n",
       "      <td>2</td>\n",
       "      <td>Add Two Numbers</td>\n",
       "      <td>add-two-numbers</td>\n",
       "      <td>Medium</td>\n",
       "      <td>False</td>\n",
       "      <td>None</td>\n",
       "      <td>[{'name': 'Linked List', 'id': 'VG9waWNUYWdOb2...</td>\n",
       "    </tr>\n",
       "    <tr>\n",
       "      <th>2</th>\n",
       "      <td>3</td>\n",
       "      <td>Longest Substring Without Repeating Characters</td>\n",
       "      <td>longest-substring-without-repeating-characters</td>\n",
       "      <td>Medium</td>\n",
       "      <td>False</td>\n",
       "      <td>None</td>\n",
       "      <td>[{'name': 'Hash Table', 'id': 'VG9waWNUYWdOb2R...</td>\n",
       "    </tr>\n",
       "    <tr>\n",
       "      <th>3</th>\n",
       "      <td>4</td>\n",
       "      <td>Median of Two Sorted Arrays</td>\n",
       "      <td>median-of-two-sorted-arrays</td>\n",
       "      <td>Hard</td>\n",
       "      <td>False</td>\n",
       "      <td>None</td>\n",
       "      <td>[{'name': 'Array', 'id': 'VG9waWNUYWdOb2RlOjU=...</td>\n",
       "    </tr>\n",
       "    <tr>\n",
       "      <th>4</th>\n",
       "      <td>5</td>\n",
       "      <td>Longest Palindromic Substring</td>\n",
       "      <td>longest-palindromic-substring</td>\n",
       "      <td>Medium</td>\n",
       "      <td>False</td>\n",
       "      <td>None</td>\n",
       "      <td>[{'name': 'String', 'id': 'VG9waWNUYWdOb2RlOjE...</td>\n",
       "    </tr>\n",
       "    <tr>\n",
       "      <th>5</th>\n",
       "      <td>6</td>\n",
       "      <td>Zigzag Conversion</td>\n",
       "      <td>zigzag-conversion</td>\n",
       "      <td>Medium</td>\n",
       "      <td>False</td>\n",
       "      <td>None</td>\n",
       "      <td>[{'name': 'String', 'id': 'VG9waWNUYWdOb2RlOjE...</td>\n",
       "    </tr>\n",
       "    <tr>\n",
       "      <th>6</th>\n",
       "      <td>7</td>\n",
       "      <td>Reverse Integer</td>\n",
       "      <td>reverse-integer</td>\n",
       "      <td>Medium</td>\n",
       "      <td>False</td>\n",
       "      <td>None</td>\n",
       "      <td>[{'name': 'Math', 'id': 'VG9waWNUYWdOb2RlOjg='...</td>\n",
       "    </tr>\n",
       "    <tr>\n",
       "      <th>7</th>\n",
       "      <td>8</td>\n",
       "      <td>String to Integer (atoi)</td>\n",
       "      <td>string-to-integer-atoi</td>\n",
       "      <td>Medium</td>\n",
       "      <td>False</td>\n",
       "      <td>None</td>\n",
       "      <td>[{'name': 'String', 'id': 'VG9waWNUYWdOb2RlOjE...</td>\n",
       "    </tr>\n",
       "    <tr>\n",
       "      <th>8</th>\n",
       "      <td>9</td>\n",
       "      <td>Palindrome Number</td>\n",
       "      <td>palindrome-number</td>\n",
       "      <td>Easy</td>\n",
       "      <td>False</td>\n",
       "      <td>None</td>\n",
       "      <td>[{'name': 'Math', 'id': 'VG9waWNUYWdOb2RlOjg='...</td>\n",
       "    </tr>\n",
       "    <tr>\n",
       "      <th>9</th>\n",
       "      <td>10</td>\n",
       "      <td>Regular Expression Matching</td>\n",
       "      <td>regular-expression-matching</td>\n",
       "      <td>Hard</td>\n",
       "      <td>False</td>\n",
       "      <td>None</td>\n",
       "      <td>[{'name': 'String', 'id': 'VG9waWNUYWdOb2RlOjE...</td>\n",
       "    </tr>\n",
       "  </tbody>\n",
       "</table>\n",
       "</div>"
      ],
      "text/plain": [
       "  frontendQuestionId                                           title  \\\n",
       "0                  1                                         Two Sum   \n",
       "1                  2                                 Add Two Numbers   \n",
       "2                  3  Longest Substring Without Repeating Characters   \n",
       "3                  4                     Median of Two Sorted Arrays   \n",
       "4                  5                   Longest Palindromic Substring   \n",
       "5                  6                               Zigzag Conversion   \n",
       "6                  7                                 Reverse Integer   \n",
       "7                  8                        String to Integer (atoi)   \n",
       "8                  9                               Palindrome Number   \n",
       "9                 10                     Regular Expression Matching   \n",
       "\n",
       "                                        titleSlug difficulty  paidOnly status  \\\n",
       "0                                         two-sum       Easy     False   None   \n",
       "1                                 add-two-numbers     Medium     False   None   \n",
       "2  longest-substring-without-repeating-characters     Medium     False   None   \n",
       "3                     median-of-two-sorted-arrays       Hard     False   None   \n",
       "4                   longest-palindromic-substring     Medium     False   None   \n",
       "5                               zigzag-conversion     Medium     False   None   \n",
       "6                                 reverse-integer     Medium     False   None   \n",
       "7                          string-to-integer-atoi     Medium     False   None   \n",
       "8                               palindrome-number       Easy     False   None   \n",
       "9                     regular-expression-matching       Hard     False   None   \n",
       "\n",
       "                                           topicTags  \n",
       "0  [{'name': 'Array', 'id': 'VG9waWNUYWdOb2RlOjU=...  \n",
       "1  [{'name': 'Linked List', 'id': 'VG9waWNUYWdOb2...  \n",
       "2  [{'name': 'Hash Table', 'id': 'VG9waWNUYWdOb2R...  \n",
       "3  [{'name': 'Array', 'id': 'VG9waWNUYWdOb2RlOjU=...  \n",
       "4  [{'name': 'String', 'id': 'VG9waWNUYWdOb2RlOjE...  \n",
       "5  [{'name': 'String', 'id': 'VG9waWNUYWdOb2RlOjE...  \n",
       "6  [{'name': 'Math', 'id': 'VG9waWNUYWdOb2RlOjg='...  \n",
       "7  [{'name': 'String', 'id': 'VG9waWNUYWdOb2RlOjE...  \n",
       "8  [{'name': 'Math', 'id': 'VG9waWNUYWdOb2RlOjg='...  \n",
       "9  [{'name': 'String', 'id': 'VG9waWNUYWdOb2RlOjE...  "
      ]
     },
     "execution_count": 5,
     "metadata": {},
     "output_type": "execute_result"
    }
   ],
   "source": [
    "df = pd.DataFrame(questions)\n",
    "df.head(20)"
   ]
  },
  {
   "cell_type": "code",
   "execution_count": 42,
   "metadata": {},
   "outputs": [
    {
     "data": {
      "text/plain": [
       "[{'name': 'Array', 'id': 'VG9waWNUYWdOb2RlOjU=', 'slug': 'array'},\n",
       " {'name': 'Math', 'id': 'VG9waWNUYWdOb2RlOjg=', 'slug': 'math'},\n",
       " {'name': 'Depth-First Search',\n",
       "  'id': 'VG9waWNUYWdOb2RlOjIx',\n",
       "  'slug': 'depth-first-search'},\n",
       " {'name': 'Breadth-First Search',\n",
       "  'id': 'VG9waWNUYWdOb2RlOjIy',\n",
       "  'slug': 'breadth-first-search'},\n",
       " {'name': 'Graph', 'id': 'VG9waWNUYWdOb2RlOjI0', 'slug': 'graph'},\n",
       " {'name': 'Geometry', 'id': 'VG9waWNUYWdOb2RlOjM4', 'slug': 'geometry'}]"
      ]
     },
     "execution_count": 42,
     "metadata": {},
     "output_type": "execute_result"
    }
   ],
   "source": [
    "df['topicTags'][0]"
   ]
  },
  {
   "cell_type": "code",
   "execution_count": null,
   "metadata": {},
   "outputs": [],
   "source": []
  }
 ],
 "metadata": {
  "interpreter": {
   "hash": "d1807e6cd56d9bd44f76fe5a62b5aa54588cf70911622ecfbae1bfb339f1f2c5"
  },
  "kernelspec": {
   "display_name": "Python 3.9.6 64-bit ('env': venv)",
   "language": "python",
   "name": "python3"
  },
  "language_info": {
   "codemirror_mode": {
    "name": "ipython",
    "version": 3
   },
   "file_extension": ".py",
   "mimetype": "text/x-python",
   "name": "python",
   "nbconvert_exporter": "python",
   "pygments_lexer": "ipython3",
   "version": "3.9.6"
  },
  "orig_nbformat": 4
 },
 "nbformat": 4,
 "nbformat_minor": 2
}
